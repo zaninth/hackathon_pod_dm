{
 "cells": [
  {
   "cell_type": "markdown",
   "metadata": {},
   "source": [
    "# Importar Bibliotecas Necessárias\n",
    "Importe as bibliotecas necessárias, incluindo PySpark."
   ]
  },
  {
   "cell_type": "code",
   "execution_count": 2,
   "metadata": {},
   "outputs": [],
   "source": [
    "from pyspark.sql import SparkSession\n",
    "from pyspark.sql.functions import col, count, when"
   ]
  },
  {
   "cell_type": "markdown",
   "metadata": {},
   "source": [
    "# Configurar Sessão Spark\n",
    "Configure a sessão Spark para iniciar o contexto Spark."
   ]
  },
  {
   "cell_type": "code",
   "execution_count": 3,
   "metadata": {},
   "outputs": [
    {
     "name": "stderr",
     "output_type": "stream",
     "text": [
      "24/11/22 20:10:31 WARN Utils: Your hostname, MacBook-Pro-de-Thales.local resolves to a loopback address: 127.0.0.1; using 192.168.1.11 instead (on interface en0)\n",
      "24/11/22 20:10:31 WARN Utils: Set SPARK_LOCAL_IP if you need to bind to another address\n",
      "Setting default log level to \"WARN\".\n",
      "To adjust logging level use sc.setLogLevel(newLevel). For SparkR, use setLogLevel(newLevel).\n",
      "24/11/22 20:10:31 WARN NativeCodeLoader: Unable to load native-hadoop library for your platform... using builtin-java classes where applicable\n"
     ]
    }
   ],
   "source": [
    "# Configurar a sessão Spark com as configurações desejadas\n",
    "spark = SparkSession.builder \\\n",
    "    .appName(\"Target Audience Study\") \\\n",
    "    .config(\"spark.sql.shuffle.partitions\", \"50\") \\\n",
    "    .config(\"spark.executor.memory\", \"2g\") \\\n",
    "    .config(\"spark.driver.memory\", \"2g\") \\\n",
    "    .getOrCreate()"
   ]
  },
  {
   "cell_type": "markdown",
   "metadata": {},
   "source": [
    "# Carregar Dados em um DataFrame Spark\n",
    "Carregue os dados em um DataFrame Spark a partir de uma fonte de dados, como um arquivo CSV ou um banco de dados."
   ]
  },
  {
   "cell_type": "code",
   "execution_count": 4,
   "metadata": {},
   "outputs": [
    {
     "name": "stdout",
     "output_type": "stream",
     "text": [
      "root\n",
      " |-- ch_cpf_hash: string (nullable = true)\n",
      " |-- vl_qnt_conta: long (nullable = true)\n",
      " |-- dt_min_adesao: date (nullable = true)\n",
      " |-- dt_max_adesao: date (nullable = true)\n",
      " |-- vl_min_limite_aprovado: decimal(7,2) (nullable = true)\n",
      " |-- vl_max_limite_aprovado: decimal(7,2) (nullable = true)\n",
      " |-- vl_total_limite_aprovado: decimal(38,2) (nullable = true)\n",
      " |-- min_saldo_devedor: decimal(38,2) (nullable = true)\n",
      " |-- max_saldo_devedor: decimal(38,2) (nullable = true)\n",
      " |-- total_saldo_devedor: decimal(38,2) (nullable = true)\n",
      " |-- min_dias_atraso: integer (nullable = true)\n",
      " |-- max_dias_atraso: integer (nullable = true)\n",
      " |-- dt_fechamento: date (nullable = true)\n",
      "\n"
     ]
    }
   ],
   "source": [
    "# Especificar o diretório contendo os arquivos .parquet\n",
    "parquet_directory = \"/Users/zaninth/Downloads/fato_total_risco_trigg\"\n",
    "\n",
    "# Ler todos os arquivos .parquet no diretório em um único DataFrame\n",
    "df = spark.read.parquet(parquet_directory)\n",
    "\n",
    "# Mostrar o esquema do DataFrame resultante\n",
    "df.printSchema()"
   ]
  },
  {
   "cell_type": "code",
   "execution_count": 20,
   "metadata": {},
   "outputs": [
    {
     "name": "stdout",
     "output_type": "stream",
     "text": [
      "Coluna: ch_cpf_hash, Tipo de dado: string\n",
      "Coluna: vl_qnt_conta, Tipo de dado: bigint\n",
      "Coluna: dt_min_adesao, Tipo de dado: date\n",
      "Coluna: dt_max_adesao, Tipo de dado: date\n",
      "Coluna: vl_min_limite_aprovado, Tipo de dado: decimal(7,2)\n",
      "Coluna: vl_max_limite_aprovado, Tipo de dado: decimal(7,2)\n",
      "Coluna: vl_total_limite_aprovado, Tipo de dado: decimal(38,2)\n",
      "Coluna: min_saldo_devedor, Tipo de dado: decimal(38,2)\n",
      "Coluna: max_saldo_devedor, Tipo de dado: decimal(38,2)\n",
      "Coluna: total_saldo_devedor, Tipo de dado: decimal(38,2)\n",
      "Coluna: min_dias_atraso, Tipo de dado: int\n",
      "Coluna: max_dias_atraso, Tipo de dado: int\n",
      "Coluna: dt_fechamento, Tipo de dado: date\n"
     ]
    }
   ],
   "source": [
    "# Verificar os tipos de dados de cada coluna\n",
    "dtypes = df.dtypes\n",
    "\n",
    "# Mostrar os tipos de dados\n",
    "for column, dtype in dtypes:\n",
    "    print(f\"Coluna: {column}, Tipo de dado: {dtype}\")"
   ]
  },
  {
   "cell_type": "code",
   "execution_count": 10,
   "metadata": {},
   "outputs": [
    {
     "name": "stdout",
     "output_type": "stream",
     "text": [
      "+--------------------+-------------+\n",
      "|         ch_cpf_hash|dt_fechamento|\n",
      "+--------------------+-------------+\n",
      "|0da564d51ee1ce79b...|   2024-08-31|\n",
      "|d2a444414ab222bf5...|   2024-08-31|\n",
      "|39e26353f2a9de3b0...|   2024-08-31|\n",
      "|b87362d224305c9c0...|   2024-08-31|\n",
      "|f9978d9d96ae87331...|   2024-08-31|\n",
      "+--------------------+-------------+\n",
      "only showing top 5 rows\n",
      "\n"
     ]
    }
   ],
   "source": [
    "# Selecionar colunas qualitativas\n",
    "qualitative_columns = [\"ch_cpf_hash\", \"dt_fechamento\"]\n",
    "df_qualitative = df.select(*qualitative_columns)\n",
    "\n",
    "# Mostrar as primeiras linhas do DataFrame qualitativo\n",
    "df_qualitative.show(5)"
   ]
  },
  {
   "cell_type": "code",
   "execution_count": 18,
   "metadata": {},
   "outputs": [],
   "source": [
    "# Selecionar colunas quantitativas\n",
    "quantitative_columns = [\"vl_qnt_conta\", \"vl_min_limite_aprovado\", \"vl_max_limite_aprovado\", \"vl_total_limite_aprovado\", \"min_saldo_devedor\", \"max_saldo_devedor\", \"total_saldo_devedor\", \"min_dias_atraso\", \"max_dias_atraso\"]\n",
    "df_quantitative = df.select(*quantitative_columns)\n",
    "\n",
    "# Mostrar as primeiras linhas do DataFrame quantitativo\n",
    "#df_quantitative.show(5)\n",
    "# df_quantitative.describe().show() "
   ]
  },
  {
   "cell_type": "code",
   "execution_count": null,
   "metadata": {},
   "outputs": [
    {
     "data": {
      "text/html": [
       "<div>\n",
       "<style scoped>\n",
       "    .dataframe tbody tr th:only-of-type {\n",
       "        vertical-align: middle;\n",
       "    }\n",
       "\n",
       "    .dataframe tbody tr th {\n",
       "        vertical-align: top;\n",
       "    }\n",
       "\n",
       "    .dataframe thead th {\n",
       "        text-align: right;\n",
       "    }\n",
       "</style>\n",
       "<table border=\"1\" class=\"dataframe\">\n",
       "  <thead>\n",
       "    <tr style=\"text-align: right;\">\n",
       "      <th></th>\n",
       "      <th>summary</th>\n",
       "      <th>vl_qnt_conta</th>\n",
       "      <th>vl_min_limite_aprovado</th>\n",
       "      <th>vl_max_limite_aprovado</th>\n",
       "      <th>vl_total_limite_aprovado</th>\n",
       "      <th>min_saldo_devedor</th>\n",
       "      <th>max_saldo_devedor</th>\n",
       "      <th>total_saldo_devedor</th>\n",
       "      <th>min_dias_atraso</th>\n",
       "      <th>max_dias_atraso</th>\n",
       "    </tr>\n",
       "  </thead>\n",
       "  <tbody>\n",
       "    <tr>\n",
       "      <th>0</th>\n",
       "      <td>count</td>\n",
       "      <td>1127650</td>\n",
       "      <td>1127640</td>\n",
       "      <td>1127640</td>\n",
       "      <td>1127640</td>\n",
       "      <td>1127650</td>\n",
       "      <td>1127650</td>\n",
       "      <td>1127650</td>\n",
       "      <td>1127650</td>\n",
       "      <td>1127650</td>\n",
       "    </tr>\n",
       "    <tr>\n",
       "      <th>1</th>\n",
       "      <td>mean</td>\n",
       "      <td>1.000527645989447</td>\n",
       "      <td>2124.722917</td>\n",
       "      <td>2125.125089</td>\n",
       "      <td>2126.672298</td>\n",
       "      <td>1270.635294</td>\n",
       "      <td>1271.083477</td>\n",
       "      <td>1271.418375</td>\n",
       "      <td>104.92518777989625</td>\n",
       "      <td>105.02991353700173</td>\n",
       "    </tr>\n",
       "    <tr>\n",
       "      <th>2</th>\n",
       "      <td>stddev</td>\n",
       "      <td>0.11290475029520305</td>\n",
       "      <td>1622.0309105320182</td>\n",
       "      <td>1622.3318266473307</td>\n",
       "      <td>1636.7232121960942</td>\n",
       "      <td>2404.524805272714</td>\n",
       "      <td>2404.7404514493346</td>\n",
       "      <td>2405.441601953322</td>\n",
       "      <td>232.53130138880078</td>\n",
       "      <td>232.8985853235725</td>\n",
       "    </tr>\n",
       "    <tr>\n",
       "      <th>3</th>\n",
       "      <td>min</td>\n",
       "      <td>1</td>\n",
       "      <td>0.00</td>\n",
       "      <td>0.00</td>\n",
       "      <td>0.00</td>\n",
       "      <td>-12464.40</td>\n",
       "      <td>-12464.40</td>\n",
       "      <td>-12464.40</td>\n",
       "      <td>0</td>\n",
       "      <td>0</td>\n",
       "    </tr>\n",
       "    <tr>\n",
       "      <th>4</th>\n",
       "      <td>max</td>\n",
       "      <td>54</td>\n",
       "      <td>12500.00</td>\n",
       "      <td>12500.00</td>\n",
       "      <td>96700.00</td>\n",
       "      <td>56578.72</td>\n",
       "      <td>56578.72</td>\n",
       "      <td>56578.72</td>\n",
       "      <td>2762</td>\n",
       "      <td>2762</td>\n",
       "    </tr>\n",
       "  </tbody>\n",
       "</table>\n",
       "</div>"
      ],
      "text/plain": [
       "  summary         vl_qnt_conta  ...     min_dias_atraso     max_dias_atraso\n",
       "0   count              1127650  ...             1127650             1127650\n",
       "1    mean    1.000527645989447  ...  104.92518777989625  105.02991353700173\n",
       "2  stddev  0.11290475029520305  ...  232.53130138880078   232.8985853235725\n",
       "3     min                    1  ...                   0                   0\n",
       "4     max                   54  ...                2762                2762\n",
       "\n",
       "[5 rows x 10 columns]"
      ]
     },
     "execution_count": 17,
     "metadata": {},
     "output_type": "execute_result"
    }
   ],
   "source": [
    "# Converter para Pandas DataFrame para melhor visualização\n",
    "df_describe_pandas = df_quantitative.describe().toPandas().convert_dtypes()\n",
    "\n",
    "# Mostrar o DataFrame descritivo\n",
    "df_describe_pandas"
   ]
  },
  {
   "cell_type": "code",
   "execution_count": 30,
   "metadata": {},
   "outputs": [
    {
     "data": {
      "text/plain": [
       "DataFrame[ch_cpf_hash: string, vl_qnt_conta: bigint, dt_min_adesao: date, dt_max_adesao: date, vl_min_limite_aprovado: decimal(7,2), vl_max_limite_aprovado: decimal(7,2), vl_total_limite_aprovado: decimal(38,2), min_saldo_devedor: decimal(38,2), max_saldo_devedor: decimal(38,2), total_saldo_devedor: decimal(38,2), min_dias_atraso: int, max_dias_atraso: int, dt_fechamento: date]"
      ]
     },
     "execution_count": 30,
     "metadata": {},
     "output_type": "execute_result"
    }
   ],
   "source": [
    "df"
   ]
  },
  {
   "cell_type": "code",
   "execution_count": 31,
   "metadata": {},
   "outputs": [
    {
     "name": "stderr",
     "output_type": "stream",
     "text": [
      "                                                                                \r"
     ]
    },
    {
     "data": {
      "application/vnd.jupyter.widget-view+json": {
       "model_id": "951e1eb4656246b685c697234800c13b",
       "version_major": 2,
       "version_minor": 0
      },
      "text/plain": [
       "Summarize dataset:   0%|          | 0/5 [00:00<?, ?it/s]"
      ]
     },
     "metadata": {},
     "output_type": "display_data"
    },
    {
     "data": {
      "application/vnd.jupyter.widget-view+json": {
       "model_id": "915d29870cb8461e962da5698a44eb05",
       "version_major": 2,
       "version_minor": 0
      },
      "text/plain": [
       "Generate report structure:   0%|          | 0/1 [00:00<?, ?it/s]"
      ]
     },
     "metadata": {},
     "output_type": "display_data"
    },
    {
     "data": {
      "application/vnd.jupyter.widget-view+json": {
       "model_id": "2f02dea4f7224fd8b055ed68c7cde09d",
       "version_major": 2,
       "version_minor": 0
      },
      "text/plain": [
       "Render HTML:   0%|          | 0/1 [00:00<?, ?it/s]"
      ]
     },
     "metadata": {},
     "output_type": "display_data"
    },
    {
     "data": {
      "application/vnd.jupyter.widget-view+json": {
       "model_id": "33cec5d2961d4206b6d96a7a0003eccc",
       "version_major": 2,
       "version_minor": 0
      },
      "text/plain": [
       "Export report to file:   0%|          | 0/1 [00:00<?, ?it/s]"
      ]
     },
     "metadata": {},
     "output_type": "display_data"
    }
   ],
   "source": [
    "import pandas_profiling as pp\n",
    "import pandas as pd\n",
    "\n",
    "\n",
    "# Converter para pandas DataFrame\n",
    "pandas_df = df.toPandas().convert_dtypes()\n",
    "pandas_df['dt_max_adesao'] = pd.to_datetime(pandas_df['dt_max_adesao'])\n",
    "pandas_df['dt_min_adesao'] = pd.to_datetime(pandas_df['dt_min_adesao'])\n",
    "pandas_df['dt_fechamento'] = pd.to_datetime(pandas_df['dt_fechamento'])\n",
    "pandas_df['vl_min_limite_aprovado'] = pd.to_numeric(pandas_df['vl_min_limite_aprovado'].astype(float))\n",
    "pandas_df['vl_max_limite_aprovado'] = pd.to_numeric(pandas_df['vl_max_limite_aprovado'].astype(float))\n",
    "pandas_df['vl_total_limite_aprovado'] = pd.to_numeric(pandas_df['vl_total_limite_aprovado'].astype(float))\n",
    "pandas_df['min_saldo_devedor'] = pd.to_numeric(pandas_df['min_saldo_devedor'].astype(float))\n",
    "pandas_df['max_saldo_devedor'] = pd.to_numeric(pandas_df['max_saldo_devedor'].astype(float))\n",
    "pandas_df['total_saldo_devedor'] = pd.to_numeric(pandas_df['total_saldo_devedor'].astype(float))\n",
    "\n",
    "# Gerar relatório com pandas-profiling\n",
    "profile = pp.ProfileReport(pandas_df)\n",
    "profile.to_file(\"relatorio.html\")\n"
   ]
  },
  {
   "cell_type": "code",
   "execution_count": 23,
   "metadata": {},
   "outputs": [
    {
     "data": {
      "text/html": [
       "<div>\n",
       "<style scoped>\n",
       "    .dataframe tbody tr th:only-of-type {\n",
       "        vertical-align: middle;\n",
       "    }\n",
       "\n",
       "    .dataframe tbody tr th {\n",
       "        vertical-align: top;\n",
       "    }\n",
       "\n",
       "    .dataframe thead th {\n",
       "        text-align: right;\n",
       "    }\n",
       "</style>\n",
       "<table border=\"1\" class=\"dataframe\">\n",
       "  <thead>\n",
       "    <tr style=\"text-align: right;\">\n",
       "      <th></th>\n",
       "      <th>ch_cpf_hash</th>\n",
       "      <th>vl_qnt_conta</th>\n",
       "      <th>dt_min_adesao</th>\n",
       "      <th>dt_max_adesao</th>\n",
       "      <th>vl_min_limite_aprovado</th>\n",
       "      <th>vl_max_limite_aprovado</th>\n",
       "      <th>vl_total_limite_aprovado</th>\n",
       "      <th>min_saldo_devedor</th>\n",
       "      <th>max_saldo_devedor</th>\n",
       "      <th>total_saldo_devedor</th>\n",
       "      <th>min_dias_atraso</th>\n",
       "      <th>max_dias_atraso</th>\n",
       "      <th>dt_fechamento</th>\n",
       "    </tr>\n",
       "  </thead>\n",
       "  <tbody>\n",
       "    <tr>\n",
       "      <th>0</th>\n",
       "      <td>0da564d51ee1ce79bd60bd0b723238c3878aa1d54d6da4...</td>\n",
       "      <td>1</td>\n",
       "      <td>2021-12-27</td>\n",
       "      <td>2021-12-27</td>\n",
       "      <td>600.00</td>\n",
       "      <td>600.00</td>\n",
       "      <td>600.00</td>\n",
       "      <td>307.78</td>\n",
       "      <td>307.78</td>\n",
       "      <td>307.78</td>\n",
       "      <td>149</td>\n",
       "      <td>149</td>\n",
       "      <td>2024-08-31</td>\n",
       "    </tr>\n",
       "    <tr>\n",
       "      <th>1</th>\n",
       "      <td>d2a444414ab222bf58b39090d7e64a66b2c1cdef2dad37...</td>\n",
       "      <td>1</td>\n",
       "      <td>2021-12-28</td>\n",
       "      <td>2021-12-28</td>\n",
       "      <td>1900.00</td>\n",
       "      <td>1900.00</td>\n",
       "      <td>1900.00</td>\n",
       "      <td>2592.25</td>\n",
       "      <td>2592.25</td>\n",
       "      <td>2592.25</td>\n",
       "      <td>220</td>\n",
       "      <td>220</td>\n",
       "      <td>2024-08-31</td>\n",
       "    </tr>\n",
       "  </tbody>\n",
       "</table>\n",
       "</div>"
      ],
      "text/plain": [
       "                                         ch_cpf_hash  ...  dt_fechamento\n",
       "0  0da564d51ee1ce79bd60bd0b723238c3878aa1d54d6da4...  ...     2024-08-31\n",
       "1  d2a444414ab222bf58b39090d7e64a66b2c1cdef2dad37...  ...     2024-08-31\n",
       "\n",
       "[2 rows x 13 columns]"
      ]
     },
     "execution_count": 23,
     "metadata": {},
     "output_type": "execute_result"
    }
   ],
   "source": [
    "pandas_df.head(2)"
   ]
  },
  {
   "cell_type": "code",
   "execution_count": 29,
   "metadata": {},
   "outputs": [
    {
     "name": "stdout",
     "output_type": "stream",
     "text": [
      "Resumindo a tabela...\n",
      " Número de Linhas: 1127650\n",
      " Número de Colunas: 13\n",
      "\n",
      " Tipos de Dados das Colunas:\n",
      "root\n",
      " |-- ch_cpf_hash: string (nullable = true)\n",
      " |-- vl_qnt_conta: long (nullable = true)\n",
      " |-- dt_min_adesao: date (nullable = true)\n",
      " |-- dt_max_adesao: date (nullable = true)\n",
      " |-- vl_min_limite_aprovado: decimal(7,2) (nullable = true)\n",
      " |-- vl_max_limite_aprovado: decimal(7,2) (nullable = true)\n",
      " |-- vl_total_limite_aprovado: decimal(38,2) (nullable = true)\n",
      " |-- min_saldo_devedor: decimal(38,2) (nullable = true)\n",
      " |-- max_saldo_devedor: decimal(38,2) (nullable = true)\n",
      " |-- total_saldo_devedor: decimal(38,2) (nullable = true)\n",
      " |-- min_dias_atraso: integer (nullable = true)\n",
      " |-- max_dias_atraso: integer (nullable = true)\n",
      " |-- dt_fechamento: date (nullable = true)\n",
      "\n",
      "\n",
      " Estatísticas Descritivas:\n"
     ]
    },
    {
     "name": "stderr",
     "output_type": "stream",
     "text": [
      "[Stage 71:============================>                            (5 + 5) / 10]\r"
     ]
    },
    {
     "name": "stdout",
     "output_type": "stream",
     "text": [
      "+-------+--------------------+-------------------+----------------------+----------------------+------------------------+-----------------+------------------+-------------------+------------------+------------------+\n",
      "|summary|         ch_cpf_hash|       vl_qnt_conta|vl_min_limite_aprovado|vl_max_limite_aprovado|vl_total_limite_aprovado|min_saldo_devedor| max_saldo_devedor|total_saldo_devedor|   min_dias_atraso|   max_dias_atraso|\n",
      "+-------+--------------------+-------------------+----------------------+----------------------+------------------------+-----------------+------------------+-------------------+------------------+------------------+\n",
      "|  count|             1127650|            1127650|               1127640|               1127640|                 1127640|          1127650|           1127650|            1127650|           1127650|           1127650|\n",
      "|   mean|                NULL|  1.000527645989447|           2124.722917|           2125.125089|             2126.672298|      1270.635294|       1271.083477|        1271.418375|104.92518777989625|105.02991353700173|\n",
      "| stddev|                NULL|0.11290475029520305|    1622.0309105320182|    1622.3318266473307|      1636.7232121960942|2404.524805272714|2404.7404514493346|  2405.441601953322|232.53130138880078| 232.8985853235725|\n",
      "|    min|00002ee01592be662...|                  1|                  0.00|                  0.00|                    0.00|        -12464.40|         -12464.40|          -12464.40|                 0|                 0|\n",
      "|    max|ffffc72b57a260bd7...|                 54|              12500.00|              12500.00|                96700.00|         56578.72|          56578.72|           56578.72|              2762|              2762|\n",
      "+-------+--------------------+-------------------+----------------------+----------------------+------------------------+-----------------+------------------+-------------------+------------------+------------------+\n",
      "\n"
     ]
    },
    {
     "name": "stderr",
     "output_type": "stream",
     "text": [
      "                                                                                \r"
     ]
    }
   ],
   "source": [
    "from pyspark.sql import functions as F\n",
    "from pyspark.sql.functions import col\n",
    "\n",
    "# Resumindo a tabela\n",
    "def summarize_table(df):\n",
    "    print(\"Resumindo a tabela...\")\n",
    "\n",
    "    # Número de linhas e colunas\n",
    "    num_rows = df.count()\n",
    "    num_cols = len(df.columns)\n",
    "    print(f\" Número de Linhas: {num_rows}\")\n",
    "    print(f\" Número de Colunas: {num_cols}\")\n",
    "\n",
    "    # Tipos de dados das colunas\n",
    "    print(\"\\n Tipos de Dados das Colunas:\")\n",
    "    df.printSchema()\n",
    "\n",
    "    # Estatísticas descritivas\n",
    "    print(\"\\n Estatísticas Descritivas:\")\n",
    "    df.describe().show()\n",
    "\n",
    "# Chamando a função\n",
    "summarize_table(df)"
   ]
  },
  {
   "cell_type": "code",
   "execution_count": 22,
   "metadata": {},
   "outputs": [
    {
     "data": {
      "text/plain": [
       "ch_cpf_hash                 string\n",
       "vl_qnt_conta                 Int64\n",
       "dt_min_adesao               object\n",
       "dt_max_adesao               object\n",
       "vl_min_limite_aprovado      object\n",
       "vl_max_limite_aprovado      object\n",
       "vl_total_limite_aprovado    object\n",
       "min_saldo_devedor           object\n",
       "max_saldo_devedor           object\n",
       "total_saldo_devedor         object\n",
       "min_dias_atraso              Int32\n",
       "max_dias_atraso              Int32\n",
       "dt_fechamento               object\n",
       "dtype: object"
      ]
     },
     "execution_count": 22,
     "metadata": {},
     "output_type": "execute_result"
    }
   ],
   "source": [
    "pandas_df.dtypes"
   ]
  },
  {
   "cell_type": "markdown",
   "metadata": {},
   "source": [
    "# Explorando o DataFrame\n",
    "."
   ]
  },
  {
   "cell_type": "code",
   "execution_count": 7,
   "metadata": {},
   "outputs": [
    {
     "name": "stderr",
     "output_type": "stream",
     "text": [
      "                                                                                \r"
     ]
    },
    {
     "name": "stdout",
     "output_type": "stream",
     "text": [
      "+--------------------+-----+\n",
      "|         ch_cpf_hash|count|\n",
      "+--------------------+-----+\n",
      "|038ffd39fb58c5f1b...|    5|\n",
      "|3d79d5e702a97715c...|    5|\n",
      "|0c0166d66319820fc...|    5|\n",
      "|9806dde903c8a1bfa...|    5|\n",
      "|86954a39d2a775d17...|    5|\n",
      "|fd9761d637c3ce969...|    5|\n",
      "|98199d258b3cbf426...|    5|\n",
      "|1a08db347c20a4384...|    5|\n",
      "|4286661ba0a8c231e...|    5|\n",
      "|8bbeb0febfd217152...|    5|\n",
      "|ebd93149f5719b433...|    5|\n",
      "|23fbbd327853c8039...|    5|\n",
      "|69a88a3fc9f492197...|    5|\n",
      "|9ecee4185f4bdf0e4...|    5|\n",
      "|7e676758c856f3512...|    5|\n",
      "|264a1aa26619c3782...|    5|\n",
      "|a206f6d3f06094a98...|    5|\n",
      "|7d368838ce524dc4b...|    5|\n",
      "|bce661a71eaf5bec7...|    5|\n",
      "|aecb26c555bdea77d...|    5|\n",
      "+--------------------+-----+\n",
      "only showing top 20 rows\n",
      "\n",
      "+------------+-------+\n",
      "|vl_qnt_conta|  count|\n",
      "+------------+-------+\n",
      "|           1|1127315|\n",
      "|           2|    330|\n",
      "|          54|      5|\n",
      "+------------+-------+\n",
      "\n",
      "+-------------+-----+\n",
      "|dt_min_adesao|count|\n",
      "+-------------+-----+\n",
      "|   2022-08-17| 3740|\n",
      "|   2021-01-04| 3675|\n",
      "|   2021-12-06| 3435|\n",
      "|   2019-12-02| 3075|\n",
      "|   2022-01-31| 2555|\n",
      "|   2019-11-01| 2540|\n",
      "|   2022-02-07| 2410|\n",
      "|   2022-01-24| 2300|\n",
      "|   2021-11-09| 2285|\n",
      "|   2022-02-08| 2220|\n",
      "|   2021-11-11| 2210|\n",
      "|   2021-11-08| 2210|\n",
      "|   2020-01-02| 2205|\n",
      "|   2021-11-05| 2195|\n",
      "|   2021-11-22| 2190|\n",
      "|   2021-10-25| 2175|\n",
      "|   2021-11-10| 2160|\n",
      "|   2021-11-24| 2150|\n",
      "|   2022-03-21| 2135|\n",
      "|   2021-11-18| 2130|\n",
      "+-------------+-----+\n",
      "only showing top 20 rows\n",
      "\n",
      "+-------------+-----+\n",
      "|dt_max_adesao|count|\n",
      "+-------------+-----+\n",
      "|   2022-08-17| 3745|\n",
      "|   2021-01-04| 3675|\n",
      "|   2021-12-06| 3440|\n",
      "|   2019-12-02| 3075|\n",
      "|   2022-01-31| 2555|\n",
      "|   2019-11-01| 2540|\n",
      "|   2022-02-07| 2410|\n",
      "|   2022-01-24| 2300|\n",
      "|   2021-11-09| 2285|\n",
      "|   2022-02-08| 2225|\n",
      "|   2021-11-11| 2210|\n",
      "|   2021-11-08| 2210|\n",
      "|   2020-01-02| 2205|\n",
      "|   2021-11-05| 2195|\n",
      "|   2021-11-22| 2190|\n",
      "|   2021-10-25| 2175|\n",
      "|   2021-11-10| 2160|\n",
      "|   2021-11-24| 2150|\n",
      "|   2022-03-21| 2135|\n",
      "|   2021-11-18| 2135|\n",
      "+-------------+-----+\n",
      "only showing top 20 rows\n",
      "\n",
      "+----------------------+-----+\n",
      "|vl_min_limite_aprovado|count|\n",
      "+----------------------+-----+\n",
      "|                600.00|85125|\n",
      "|               2000.00|54735|\n",
      "|               1300.00|54405|\n",
      "|               1500.00|51160|\n",
      "|               1000.00|44965|\n",
      "|               1700.00|43015|\n",
      "|               1200.00|41995|\n",
      "|               1800.00|41835|\n",
      "|               1400.00|40530|\n",
      "|               1100.00|39355|\n",
      "|                500.00|39035|\n",
      "|               1600.00|36645|\n",
      "|               2500.00|35460|\n",
      "|               1900.00|34380|\n",
      "|                900.00|31705|\n",
      "|               2300.00|30390|\n",
      "|               2100.00|30250|\n",
      "|                700.00|29610|\n",
      "|               2200.00|26455|\n",
      "|                800.00|25515|\n",
      "+----------------------+-----+\n",
      "only showing top 20 rows\n",
      "\n",
      "+----------------------+-----+\n",
      "|vl_max_limite_aprovado|count|\n",
      "+----------------------+-----+\n",
      "|                600.00|85100|\n",
      "|               2000.00|54735|\n",
      "|               1300.00|54400|\n",
      "|               1500.00|51155|\n",
      "|               1000.00|44965|\n",
      "|               1700.00|43020|\n",
      "|               1200.00|41990|\n",
      "|               1800.00|41820|\n",
      "|               1400.00|40515|\n",
      "|               1100.00|39345|\n",
      "|                500.00|39020|\n",
      "|               1600.00|36645|\n",
      "|               2500.00|35475|\n",
      "|               1900.00|34375|\n",
      "|                900.00|31700|\n",
      "|               2300.00|30385|\n",
      "|               2100.00|30235|\n",
      "|                700.00|29595|\n",
      "|               2200.00|26460|\n",
      "|                800.00|25505|\n",
      "+----------------------+-----+\n",
      "only showing top 20 rows\n",
      "\n",
      "+------------------------+-----+\n",
      "|vl_total_limite_aprovado|count|\n",
      "+------------------------+-----+\n",
      "|                  600.00|85080|\n",
      "|                 2000.00|54737|\n",
      "|                 1300.00|54386|\n",
      "|                 1500.00|51138|\n",
      "|                 1000.00|44947|\n",
      "|                 1700.00|42994|\n",
      "|                 1200.00|41995|\n",
      "|                 1800.00|41796|\n",
      "|                 1400.00|40503|\n",
      "|                 1100.00|39338|\n",
      "|                  500.00|39003|\n",
      "|                 1600.00|36643|\n",
      "|                 2500.00|35465|\n",
      "|                 1900.00|34362|\n",
      "|                  900.00|31696|\n",
      "|                 2300.00|30376|\n",
      "|                 2100.00|30224|\n",
      "|                  700.00|29593|\n",
      "|                 2200.00|26461|\n",
      "|                  800.00|25495|\n",
      "+------------------------+-----+\n",
      "only showing top 20 rows\n",
      "\n"
     ]
    },
    {
     "name": "stderr",
     "output_type": "stream",
     "text": [
      "                                                                                \r"
     ]
    },
    {
     "name": "stdout",
     "output_type": "stream",
     "text": [
      "+-----------------+------+\n",
      "|min_saldo_devedor| count|\n",
      "+-----------------+------+\n",
      "|             0.00|167362|\n",
      "|            13.90|  8993|\n",
      "|             0.02|  7502|\n",
      "|             0.04|  5345|\n",
      "|             0.06|  5061|\n",
      "|             0.03|  4402|\n",
      "|             0.01|  4119|\n",
      "|             0.05|  3882|\n",
      "|             0.07|  2942|\n",
      "|            -0.01|  2899|\n",
      "|             0.08|  2708|\n",
      "|             0.10|  2166|\n",
      "|             0.09|  2120|\n",
      "|            -0.50|  2007|\n",
      "|            -1.00|  1989|\n",
      "|            23.89|  1808|\n",
      "|             0.11|  1519|\n",
      "|             0.12|  1416|\n",
      "|             0.14|  1409|\n",
      "|             0.66|  1339|\n",
      "+-----------------+------+\n",
      "only showing top 20 rows\n",
      "\n",
      "+-----------------+------+\n",
      "|max_saldo_devedor| count|\n",
      "+-----------------+------+\n",
      "|             0.00|167331|\n",
      "|            13.90|  8992|\n",
      "|             0.02|  7492|\n",
      "|             0.04|  5350|\n",
      "|             0.06|  5061|\n",
      "|             0.03|  4402|\n",
      "|             0.01|  4124|\n",
      "|             0.05|  3887|\n",
      "|             0.07|  2947|\n",
      "|            -0.01|  2888|\n",
      "|             0.08|  2708|\n",
      "|             0.10|  2171|\n",
      "|             0.09|  2120|\n",
      "|            -0.50|  2007|\n",
      "|            -1.00|  1989|\n",
      "|            23.89|  1809|\n",
      "|             0.11|  1519|\n",
      "|             0.12|  1416|\n",
      "|             0.14|  1409|\n",
      "|            -0.10|  1344|\n",
      "+-----------------+------+\n",
      "only showing top 20 rows\n",
      "\n",
      "+-------------------+------+\n",
      "|total_saldo_devedor| count|\n",
      "+-------------------+------+\n",
      "|               0.00|167284|\n",
      "|              13.90|  8991|\n",
      "|               0.02|  7492|\n",
      "|               0.04|  5345|\n",
      "|               0.06|  5061|\n",
      "|               0.03|  4402|\n",
      "|               0.01|  4119|\n",
      "|               0.05|  3877|\n",
      "|               0.07|  2942|\n",
      "|              -0.01|  2888|\n",
      "|               0.08|  2708|\n",
      "|               0.10|  2166|\n",
      "|               0.09|  2120|\n",
      "|              -0.50|  2007|\n",
      "|              -1.00|  1989|\n",
      "|              23.89|  1809|\n",
      "|               0.11|  1519|\n",
      "|               0.12|  1416|\n",
      "|               0.14|  1409|\n",
      "|               0.66|  1339|\n",
      "+-------------------+------+\n",
      "only showing top 20 rows\n",
      "\n",
      "+---------------+------+\n",
      "|min_dias_atraso| count|\n",
      "+---------------+------+\n",
      "|              0|767362|\n",
      "|            296|  8004|\n",
      "|              7|  7555|\n",
      "|            265|  7176|\n",
      "|            281|  7041|\n",
      "|            250|  6592|\n",
      "|              6|  5944|\n",
      "|            291|  5642|\n",
      "|            189|  5399|\n",
      "|            204|  5312|\n",
      "|            234|  5251|\n",
      "|            260|  5160|\n",
      "|            219|  4824|\n",
      "|            357|  4599|\n",
      "|            326|  4239|\n",
      "|            286|  4107|\n",
      "|            235|  3954|\n",
      "|            255|  3820|\n",
      "|            342|  3808|\n",
      "|            199|  3800|\n",
      "+---------------+------+\n",
      "only showing top 20 rows\n",
      "\n",
      "+---------------+------+\n",
      "|max_dias_atraso| count|\n",
      "+---------------+------+\n",
      "|              0|767268|\n",
      "|            296|  8005|\n",
      "|              7|  7555|\n",
      "|            265|  7177|\n",
      "|            281|  7042|\n",
      "|            250|  6593|\n",
      "|              6|  5956|\n",
      "|            291|  5643|\n",
      "|            189|  5399|\n",
      "|            204|  5312|\n",
      "|            234|  5252|\n",
      "|            260|  5161|\n",
      "|            219|  4825|\n",
      "|            357|  4599|\n",
      "|            326|  4239|\n",
      "|            286|  4108|\n",
      "|            235|  3954|\n",
      "|            255|  3821|\n",
      "|            342|  3809|\n",
      "|            199|  3800|\n",
      "+---------------+------+\n",
      "only showing top 20 rows\n",
      "\n",
      "+-------------+------+\n",
      "|dt_fechamento| count|\n",
      "+-------------+------+\n",
      "|   2024-08-31|225530|\n",
      "|   2024-09-30|225530|\n",
      "|   2024-10-31|225530|\n",
      "|   2024-06-30|225530|\n",
      "|   2024-07-31|225530|\n",
      "+-------------+------+\n",
      "\n"
     ]
    }
   ],
   "source": [
    "# Obter a contagem de valores únicos na coluna 'vl_qnt_conta'\n",
    "value_counts_cpf = df.groupBy(\"ch_cpf_hash\").count().orderBy(\"count\", ascending=False)\n",
    "value_counts_qnt_con = df.groupBy(\"vl_qnt_conta\").count().orderBy(\"count\", ascending=False)\n",
    "value_counts_min_ads = df.groupBy(\"dt_min_adesao\").count().orderBy(\"count\", ascending=False)\n",
    "value_counts_max_ads = df.groupBy(\"dt_max_adesao\").count().orderBy(\"count\", ascending=False)\n",
    "val_cnt_min_lmt_apr = df.groupBy(\"vl_min_limite_aprovado\").count().orderBy(\"count\", ascending=False)\n",
    "vl_max_limite_aprovado = df.groupBy(\"vl_max_limite_aprovado\").count().orderBy(\"count\", ascending=False)\n",
    "vl_total_limite_aprovado = df.groupBy(\"vl_total_limite_aprovado\").count().orderBy(\"count\", ascending=False)\n",
    "min_saldo_devedor = df.groupBy(\"min_saldo_devedor\").count().orderBy(\"count\", ascending=False)\n",
    "max_saldo_devedor = df.groupBy(\"max_saldo_devedor\").count().orderBy(\"count\", ascending=False)\n",
    "total_saldo_devedor = df.groupBy(\"total_saldo_devedor\").count().orderBy(\"count\", ascending=False)\n",
    "min_dias_atraso = df.groupBy(\"min_dias_atraso\").count().orderBy(\"count\", ascending=False)\n",
    "max_dias_atraso = df.groupBy(\"max_dias_atraso\").count().orderBy(\"count\", ascending=False)\n",
    "dt_fechamento = df.groupBy(\"dt_fechamento\").count().orderBy(\"count\", ascending=False)\n",
    "\n",
    "# Mostrar o resultado\n",
    "value_counts_cpf.show()\n",
    "value_counts_qnt_con.show()\n",
    "value_counts_min_ads.show()\n",
    "value_counts_max_ads.show()\n",
    "val_cnt_min_lmt_apr.show()\n",
    "vl_max_limite_aprovado.show()\n",
    "vl_total_limite_aprovado.show()\n",
    "min_saldo_devedor.show()\n",
    "max_saldo_devedor.show()\n",
    "total_saldo_devedor.show()\n",
    "min_dias_atraso.show()\n",
    "max_dias_atraso.show()\n",
    "dt_fechamento.show()"
   ]
  },
  {
   "cell_type": "code",
   "execution_count": 9,
   "metadata": {},
   "outputs": [
    {
     "name": "stdout",
     "output_type": "stream",
     "text": [
      "+--------------------+------------+-------------+-------------+----------------------+----------------------+------------------------+-----------------+-----------------+-------------------+---------------+---------------+-------------+\n",
      "|         ch_cpf_hash|vl_qnt_conta|dt_min_adesao|dt_max_adesao|vl_min_limite_aprovado|vl_max_limite_aprovado|vl_total_limite_aprovado|min_saldo_devedor|max_saldo_devedor|total_saldo_devedor|min_dias_atraso|max_dias_atraso|dt_fechamento|\n",
      "+--------------------+------------+-------------+-------------+----------------------+----------------------+------------------------+-----------------+-----------------+-------------------+---------------+---------------+-------------+\n",
      "|0da564d51ee1ce79b...|           1|   2021-12-27|   2021-12-27|                600.00|                600.00|                  600.00|           307.78|           307.78|             307.78|            149|            149|   2024-08-31|\n",
      "|d2a444414ab222bf5...|           1|   2021-12-28|   2021-12-28|               1900.00|               1900.00|                 1900.00|          2592.25|          2592.25|            2592.25|            220|            220|   2024-08-31|\n",
      "|39e26353f2a9de3b0...|           1|   2022-01-06|   2022-01-06|               1800.00|               1800.00|                 1800.00|             0.00|             0.00|               0.00|              0|              0|   2024-08-31|\n",
      "|b87362d224305c9c0...|           1|   2022-01-13|   2022-01-13|                700.00|                700.00|                  700.00|           653.46|           653.46|             653.46|            114|            114|   2024-08-31|\n",
      "|f9978d9d96ae87331...|           1|   2022-01-13|   2022-01-13|               6100.00|               6100.00|                 6100.00|            83.40|            83.40|              83.40|             38|             38|   2024-08-31|\n",
      "+--------------------+------------+-------------+-------------+----------------------+----------------------+------------------------+-----------------+-----------------+-------------------+---------------+---------------+-------------+\n",
      "only showing top 5 rows\n",
      "\n",
      "O DataFrame concatenado tem 1127650 linhas e 13 colunas.\n"
     ]
    }
   ],
   "source": [
    "# Mostrar as primeiras linhas do DataFrame\n",
    "df.show(5)\n",
    "\n",
    "# Mostrar o número de linhas e colunas do DataFrame\n",
    "num_rows = df.count()\n",
    "num_cols = len(df.columns)\n",
    "print(f\"O DataFrame concatenado tem {num_rows} linhas e {num_cols} colunas.\")"
   ]
  },
  {
   "cell_type": "markdown",
   "metadata": {},
   "source": [
    "# Transformações e Ações em DataFrame Spark\n",
    "Execute transformações e ações em DataFrames Spark para manipular e analisar os dados."
   ]
  },
  {
   "cell_type": "code",
   "execution_count": 10,
   "metadata": {},
   "outputs": [
    {
     "name": "stdout",
     "output_type": "stream",
     "text": [
      "O DataFrame limpo tem 1127650 linhas.\n"
     ]
    }
   ],
   "source": [
    "# Remover linhas com valores nulos em colunas importantes\n",
    "df_clean = df.dropna(subset=[\"ch_cpf_hash\", \"dt_fechamento\", \"vl_qnt_conta\"])\n",
    "\n",
    "# Verificar novamente o número de linhas após a limpeza\n",
    "num_rows_clean = df_clean.count()\n",
    "print(f\"O DataFrame limpo tem {num_rows_clean} linhas.\")"
   ]
  },
  {
   "cell_type": "markdown",
   "metadata": {},
   "source": [
    "# Salvar Resultados\n",
    "Salve os resultados das operações em um formato de arquivo ou banco de dados."
   ]
  },
  {
   "cell_type": "code",
   "execution_count": 12,
   "metadata": {},
   "outputs": [
    {
     "name": "stdout",
     "output_type": "stream",
     "text": [
      "+----------------------+-----+\n",
      "|vl_min_limite_aprovado|count|\n",
      "+----------------------+-----+\n",
      "|                  NULL|   10|\n",
      "|                  0.00|   45|\n",
      "|                100.00|   15|\n",
      "|                300.00|    5|\n",
      "|                500.00|39035|\n",
      "|                600.00|85125|\n",
      "|                700.00|29610|\n",
      "|                727.21|    5|\n",
      "|                800.00|25515|\n",
      "|                841.42|    5|\n",
      "|                900.00|31705|\n",
      "|                915.53|    5|\n",
      "|                930.88|    5|\n",
      "|                944.51|    5|\n",
      "|                945.58|    5|\n",
      "|                950.00|    5|\n",
      "|                972.00|    5|\n",
      "|               1000.00|44965|\n",
      "|               1035.93|    5|\n",
      "|               1040.48|    5|\n",
      "+----------------------+-----+\n",
      "only showing top 20 rows\n",
      "\n",
      "+------------+-------+\n",
      "|vl_qnt_conta|  count|\n",
      "+------------+-------+\n",
      "|          54|      5|\n",
      "|           1|1127315|\n",
      "|           2|    330|\n",
      "+------------+-------+\n",
      "\n"
     ]
    }
   ],
   "source": [
    "# Supondo que existam colunas como 'idade' e 'sexo' no DataFrame\n",
    "# Calcular a distribuição de idade\n",
    "df_clean.groupBy(\"vl_min_limite_aprovado\").count().orderBy(\"vl_min_limite_aprovado\").show()\n",
    "\n",
    "# Calcular a distribuição de sexo\n",
    "df_clean.groupBy(\"vl_qnt_conta\").count().show()"
   ]
  },
  {
   "cell_type": "code",
   "execution_count": 13,
   "metadata": {},
   "outputs": [
    {
     "ename": "AnalysisException",
     "evalue": "[UNRESOLVED_COLUMN.WITH_SUGGESTION] A column or function parameter with name `idade` cannot be resolved. Did you mean one of the following? [`dt_max_adesao`, `dt_min_adesao`, `ch_cpf_hash`, `dt_fechamento`, `min_dias_atraso`].;\n'Project [ch_cpf_hash#135, vl_qnt_conta#136L, dt_min_adesao#137, dt_max_adesao#138, vl_min_limite_aprovado#139, vl_max_limite_aprovado#140, vl_total_limite_aprovado#141, min_saldo_devedor#142, max_saldo_devedor#143, total_saldo_devedor#144, min_dias_atraso#145, max_dias_atraso#146, dt_fechamento#147, CASE WHEN (('idade < 30) AND (total_saldo_devedor#144 < cast(cast(1000 as decimal(4,0)) as decimal(38,2)))) THEN Jovens com baixo saldo devedor WHEN (('idade >= 30) AND (total_saldo_devedor#144 >= cast(cast(1000 as decimal(4,0)) as decimal(38,2)))) THEN Adultos com alto saldo devedor ELSE Outros END AS segmento#335]\n+- Filter atleastnnonnulls(3, ch_cpf_hash#135, dt_fechamento#147, vl_qnt_conta#136L)\n   +- Relation [ch_cpf_hash#135,vl_qnt_conta#136L,dt_min_adesao#137,dt_max_adesao#138,vl_min_limite_aprovado#139,vl_max_limite_aprovado#140,vl_total_limite_aprovado#141,min_saldo_devedor#142,max_saldo_devedor#143,total_saldo_devedor#144,min_dias_atraso#145,max_dias_atraso#146,dt_fechamento#147] parquet\n",
     "output_type": "error",
     "traceback": [
      "\u001b[0;31m---------------------------------------------------------------------------\u001b[0m",
      "\u001b[0;31mAnalysisException\u001b[0m                         Traceback (most recent call last)",
      "Cell \u001b[0;32mIn[13], line 2\u001b[0m\n\u001b[1;32m      1\u001b[0m \u001b[38;5;66;03m# Criar segmentos com base em critérios específicos, por exemplo, idade e saldo devedor\u001b[39;00m\n\u001b[0;32m----> 2\u001b[0m df_segmented \u001b[38;5;241m=\u001b[39m \u001b[43mdf_clean\u001b[49m\u001b[38;5;241;43m.\u001b[39;49m\u001b[43mwithColumn\u001b[49m\u001b[43m(\u001b[49m\n\u001b[1;32m      3\u001b[0m \u001b[43m    \u001b[49m\u001b[38;5;124;43m\"\u001b[39;49m\u001b[38;5;124;43msegmento\u001b[39;49m\u001b[38;5;124;43m\"\u001b[39;49m\u001b[43m,\u001b[49m\n\u001b[1;32m      4\u001b[0m \u001b[43m    \u001b[49m\u001b[43mwhen\u001b[49m\u001b[43m(\u001b[49m\u001b[43m(\u001b[49m\u001b[43mcol\u001b[49m\u001b[43m(\u001b[49m\u001b[38;5;124;43m\"\u001b[39;49m\u001b[38;5;124;43midade\u001b[39;49m\u001b[38;5;124;43m\"\u001b[39;49m\u001b[43m)\u001b[49m\u001b[43m \u001b[49m\u001b[38;5;241;43m<\u001b[39;49m\u001b[43m \u001b[49m\u001b[38;5;241;43m30\u001b[39;49m\u001b[43m)\u001b[49m\u001b[43m \u001b[49m\u001b[38;5;241;43m&\u001b[39;49m\u001b[43m \u001b[49m\u001b[43m(\u001b[49m\u001b[43mcol\u001b[49m\u001b[43m(\u001b[49m\u001b[38;5;124;43m\"\u001b[39;49m\u001b[38;5;124;43mtotal_saldo_devedor\u001b[39;49m\u001b[38;5;124;43m\"\u001b[39;49m\u001b[43m)\u001b[49m\u001b[43m \u001b[49m\u001b[38;5;241;43m<\u001b[39;49m\u001b[43m \u001b[49m\u001b[38;5;241;43m1000\u001b[39;49m\u001b[43m)\u001b[49m\u001b[43m,\u001b[49m\u001b[43m \u001b[49m\u001b[38;5;124;43m\"\u001b[39;49m\u001b[38;5;124;43mJovens com baixo saldo devedor\u001b[39;49m\u001b[38;5;124;43m\"\u001b[39;49m\u001b[43m)\u001b[49m\n\u001b[1;32m      5\u001b[0m \u001b[43m    \u001b[49m\u001b[38;5;241;43m.\u001b[39;49m\u001b[43mwhen\u001b[49m\u001b[43m(\u001b[49m\u001b[43m(\u001b[49m\u001b[43mcol\u001b[49m\u001b[43m(\u001b[49m\u001b[38;5;124;43m\"\u001b[39;49m\u001b[38;5;124;43midade\u001b[39;49m\u001b[38;5;124;43m\"\u001b[39;49m\u001b[43m)\u001b[49m\u001b[43m \u001b[49m\u001b[38;5;241;43m>\u001b[39;49m\u001b[38;5;241;43m=\u001b[39;49m\u001b[43m \u001b[49m\u001b[38;5;241;43m30\u001b[39;49m\u001b[43m)\u001b[49m\u001b[43m \u001b[49m\u001b[38;5;241;43m&\u001b[39;49m\u001b[43m \u001b[49m\u001b[43m(\u001b[49m\u001b[43mcol\u001b[49m\u001b[43m(\u001b[49m\u001b[38;5;124;43m\"\u001b[39;49m\u001b[38;5;124;43mtotal_saldo_devedor\u001b[39;49m\u001b[38;5;124;43m\"\u001b[39;49m\u001b[43m)\u001b[49m\u001b[43m \u001b[49m\u001b[38;5;241;43m>\u001b[39;49m\u001b[38;5;241;43m=\u001b[39;49m\u001b[43m \u001b[49m\u001b[38;5;241;43m1000\u001b[39;49m\u001b[43m)\u001b[49m\u001b[43m,\u001b[49m\u001b[43m \u001b[49m\u001b[38;5;124;43m\"\u001b[39;49m\u001b[38;5;124;43mAdultos com alto saldo devedor\u001b[39;49m\u001b[38;5;124;43m\"\u001b[39;49m\u001b[43m)\u001b[49m\n\u001b[1;32m      6\u001b[0m \u001b[43m    \u001b[49m\u001b[38;5;241;43m.\u001b[39;49m\u001b[43motherwise\u001b[49m\u001b[43m(\u001b[49m\u001b[38;5;124;43m\"\u001b[39;49m\u001b[38;5;124;43mOutros\u001b[39;49m\u001b[38;5;124;43m\"\u001b[39;49m\u001b[43m)\u001b[49m\n\u001b[1;32m      7\u001b[0m \u001b[43m)\u001b[49m\n\u001b[1;32m      9\u001b[0m \u001b[38;5;66;03m# Mostrar a distribuição dos segmentos\u001b[39;00m\n\u001b[1;32m     10\u001b[0m df_segmented\u001b[38;5;241m.\u001b[39mgroupBy(\u001b[38;5;124m\"\u001b[39m\u001b[38;5;124msegmento\u001b[39m\u001b[38;5;124m\"\u001b[39m)\u001b[38;5;241m.\u001b[39mcount()\u001b[38;5;241m.\u001b[39mshow()\n",
      "File \u001b[0;32m/opt/anaconda3/envs/energy_demand_env/lib/python3.9/site-packages/pyspark/sql/dataframe.py:5176\u001b[0m, in \u001b[0;36mDataFrame.withColumn\u001b[0;34m(self, colName, col)\u001b[0m\n\u001b[1;32m   5171\u001b[0m \u001b[38;5;28;01mif\u001b[39;00m \u001b[38;5;129;01mnot\u001b[39;00m \u001b[38;5;28misinstance\u001b[39m(col, Column):\n\u001b[1;32m   5172\u001b[0m     \u001b[38;5;28;01mraise\u001b[39;00m PySparkTypeError(\n\u001b[1;32m   5173\u001b[0m         error_class\u001b[38;5;241m=\u001b[39m\u001b[38;5;124m\"\u001b[39m\u001b[38;5;124mNOT_COLUMN\u001b[39m\u001b[38;5;124m\"\u001b[39m,\n\u001b[1;32m   5174\u001b[0m         message_parameters\u001b[38;5;241m=\u001b[39m{\u001b[38;5;124m\"\u001b[39m\u001b[38;5;124marg_name\u001b[39m\u001b[38;5;124m\"\u001b[39m: \u001b[38;5;124m\"\u001b[39m\u001b[38;5;124mcol\u001b[39m\u001b[38;5;124m\"\u001b[39m, \u001b[38;5;124m\"\u001b[39m\u001b[38;5;124marg_type\u001b[39m\u001b[38;5;124m\"\u001b[39m: \u001b[38;5;28mtype\u001b[39m(col)\u001b[38;5;241m.\u001b[39m\u001b[38;5;18m__name__\u001b[39m},\n\u001b[1;32m   5175\u001b[0m     )\n\u001b[0;32m-> 5176\u001b[0m \u001b[38;5;28;01mreturn\u001b[39;00m DataFrame(\u001b[38;5;28;43mself\u001b[39;49m\u001b[38;5;241;43m.\u001b[39;49m\u001b[43m_jdf\u001b[49m\u001b[38;5;241;43m.\u001b[39;49m\u001b[43mwithColumn\u001b[49m\u001b[43m(\u001b[49m\u001b[43mcolName\u001b[49m\u001b[43m,\u001b[49m\u001b[43m \u001b[49m\u001b[43mcol\u001b[49m\u001b[38;5;241;43m.\u001b[39;49m\u001b[43m_jc\u001b[49m\u001b[43m)\u001b[49m, \u001b[38;5;28mself\u001b[39m\u001b[38;5;241m.\u001b[39msparkSession)\n",
      "File \u001b[0;32m/opt/anaconda3/envs/energy_demand_env/lib/python3.9/site-packages/py4j/java_gateway.py:1322\u001b[0m, in \u001b[0;36mJavaMember.__call__\u001b[0;34m(self, *args)\u001b[0m\n\u001b[1;32m   1316\u001b[0m command \u001b[38;5;241m=\u001b[39m proto\u001b[38;5;241m.\u001b[39mCALL_COMMAND_NAME \u001b[38;5;241m+\u001b[39m\\\n\u001b[1;32m   1317\u001b[0m     \u001b[38;5;28mself\u001b[39m\u001b[38;5;241m.\u001b[39mcommand_header \u001b[38;5;241m+\u001b[39m\\\n\u001b[1;32m   1318\u001b[0m     args_command \u001b[38;5;241m+\u001b[39m\\\n\u001b[1;32m   1319\u001b[0m     proto\u001b[38;5;241m.\u001b[39mEND_COMMAND_PART\n\u001b[1;32m   1321\u001b[0m answer \u001b[38;5;241m=\u001b[39m \u001b[38;5;28mself\u001b[39m\u001b[38;5;241m.\u001b[39mgateway_client\u001b[38;5;241m.\u001b[39msend_command(command)\n\u001b[0;32m-> 1322\u001b[0m return_value \u001b[38;5;241m=\u001b[39m \u001b[43mget_return_value\u001b[49m\u001b[43m(\u001b[49m\n\u001b[1;32m   1323\u001b[0m \u001b[43m    \u001b[49m\u001b[43manswer\u001b[49m\u001b[43m,\u001b[49m\u001b[43m \u001b[49m\u001b[38;5;28;43mself\u001b[39;49m\u001b[38;5;241;43m.\u001b[39;49m\u001b[43mgateway_client\u001b[49m\u001b[43m,\u001b[49m\u001b[43m \u001b[49m\u001b[38;5;28;43mself\u001b[39;49m\u001b[38;5;241;43m.\u001b[39;49m\u001b[43mtarget_id\u001b[49m\u001b[43m,\u001b[49m\u001b[43m \u001b[49m\u001b[38;5;28;43mself\u001b[39;49m\u001b[38;5;241;43m.\u001b[39;49m\u001b[43mname\u001b[49m\u001b[43m)\u001b[49m\n\u001b[1;32m   1325\u001b[0m \u001b[38;5;28;01mfor\u001b[39;00m temp_arg \u001b[38;5;129;01min\u001b[39;00m temp_args:\n\u001b[1;32m   1326\u001b[0m     \u001b[38;5;28;01mif\u001b[39;00m \u001b[38;5;28mhasattr\u001b[39m(temp_arg, \u001b[38;5;124m\"\u001b[39m\u001b[38;5;124m_detach\u001b[39m\u001b[38;5;124m\"\u001b[39m):\n",
      "File \u001b[0;32m/opt/anaconda3/envs/energy_demand_env/lib/python3.9/site-packages/pyspark/errors/exceptions/captured.py:185\u001b[0m, in \u001b[0;36mcapture_sql_exception.<locals>.deco\u001b[0;34m(*a, **kw)\u001b[0m\n\u001b[1;32m    181\u001b[0m converted \u001b[38;5;241m=\u001b[39m convert_exception(e\u001b[38;5;241m.\u001b[39mjava_exception)\n\u001b[1;32m    182\u001b[0m \u001b[38;5;28;01mif\u001b[39;00m \u001b[38;5;129;01mnot\u001b[39;00m \u001b[38;5;28misinstance\u001b[39m(converted, UnknownException):\n\u001b[1;32m    183\u001b[0m     \u001b[38;5;66;03m# Hide where the exception came from that shows a non-Pythonic\u001b[39;00m\n\u001b[1;32m    184\u001b[0m     \u001b[38;5;66;03m# JVM exception message.\u001b[39;00m\n\u001b[0;32m--> 185\u001b[0m     \u001b[38;5;28;01mraise\u001b[39;00m converted \u001b[38;5;28;01mfrom\u001b[39;00m \u001b[38;5;28;01mNone\u001b[39;00m\n\u001b[1;32m    186\u001b[0m \u001b[38;5;28;01melse\u001b[39;00m:\n\u001b[1;32m    187\u001b[0m     \u001b[38;5;28;01mraise\u001b[39;00m\n",
      "\u001b[0;31mAnalysisException\u001b[0m: [UNRESOLVED_COLUMN.WITH_SUGGESTION] A column or function parameter with name `idade` cannot be resolved. Did you mean one of the following? [`dt_max_adesao`, `dt_min_adesao`, `ch_cpf_hash`, `dt_fechamento`, `min_dias_atraso`].;\n'Project [ch_cpf_hash#135, vl_qnt_conta#136L, dt_min_adesao#137, dt_max_adesao#138, vl_min_limite_aprovado#139, vl_max_limite_aprovado#140, vl_total_limite_aprovado#141, min_saldo_devedor#142, max_saldo_devedor#143, total_saldo_devedor#144, min_dias_atraso#145, max_dias_atraso#146, dt_fechamento#147, CASE WHEN (('idade < 30) AND (total_saldo_devedor#144 < cast(cast(1000 as decimal(4,0)) as decimal(38,2)))) THEN Jovens com baixo saldo devedor WHEN (('idade >= 30) AND (total_saldo_devedor#144 >= cast(cast(1000 as decimal(4,0)) as decimal(38,2)))) THEN Adultos com alto saldo devedor ELSE Outros END AS segmento#335]\n+- Filter atleastnnonnulls(3, ch_cpf_hash#135, dt_fechamento#147, vl_qnt_conta#136L)\n   +- Relation [ch_cpf_hash#135,vl_qnt_conta#136L,dt_min_adesao#137,dt_max_adesao#138,vl_min_limite_aprovado#139,vl_max_limite_aprovado#140,vl_total_limite_aprovado#141,min_saldo_devedor#142,max_saldo_devedor#143,total_saldo_devedor#144,min_dias_atraso#145,max_dias_atraso#146,dt_fechamento#147] parquet\n"
     ]
    }
   ],
   "source": [
    "# Criar segmentos com base em critérios específicos, por exemplo, idade e saldo devedor\n",
    "df_segmented = df_clean.withColumn(\n",
    "    \"segmento\",\n",
    "    when((col(\"idade\") < 30) & (col(\"total_saldo_devedor\") < 1000), \"Jovens com baixo saldo devedor\")\n",
    "    .when((col(\"idade\") >= 30) & (col(\"total_saldo_devedor\") >= 1000), \"Adultos com alto saldo devedor\")\n",
    "    .otherwise(\"Outros\")\n",
    ")\n",
    "\n",
    "# Mostrar a distribuição dos segmentos\n",
    "df_segmented.groupBy(\"segmento\").count().show()"
   ]
  },
  {
   "cell_type": "code",
   "execution_count": null,
   "metadata": {},
   "outputs": [],
   "source": []
  }
 ],
 "metadata": {
  "kernelspec": {
   "display_name": "energy_demand_env",
   "language": "python",
   "name": "python3"
  },
  "language_info": {
   "codemirror_mode": {
    "name": "ipython",
    "version": 3
   },
   "file_extension": ".py",
   "mimetype": "text/x-python",
   "name": "python",
   "nbconvert_exporter": "python",
   "pygments_lexer": "ipython3",
   "version": "3.9.18"
  }
 },
 "nbformat": 4,
 "nbformat_minor": 2
}
